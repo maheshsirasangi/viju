{
 "cells": [
  {
   "cell_type": "code",
   "execution_count": null,
   "id": "3409799f-2c1b-4b33-ad7a-4bf2bdeeef2d",
   "metadata": {},
   "outputs": [],
   "source": [
    "import yfinance as yf"
   ]
  },
  {
   "cell_type": "code",
   "execution_count": null,
   "id": "6e1918b0-4edc-4e59-84f8-7b514d1c5416",
   "metadata": {},
   "outputs": [],
   "source": [
    "gme = yf.Ticker(\"GME\")"
   ]
  },
  {
   "cell_type": "code",
   "execution_count": null,
   "id": "34349f50-a5db-46ce-a100-d9c1815c2313",
   "metadata": {},
   "outputs": [],
   "source": [
    "gme_data = gme.history(period=\"1mo\")  # Last 1 month of stock data"
   ]
  },
  {
   "cell_type": "code",
   "execution_count": null,
   "id": "0e0f3eb8-37f9-4f00-bcc0-b31503d12e5c",
   "metadata": {},
   "outputs": [],
   "source": [
    "gme_data.reset_index(inplace=True)"
   ]
  },
  {
   "cell_type": "code",
   "execution_count": null,
   "id": "4e04261d-6711-4415-b9f6-9108e2d7eddb",
   "metadata": {},
   "outputs": [],
   "source": [
    "print(gme_data.head())"
   ]
  },
  {
   "cell_type": "code",
   "execution_count": null,
   "id": "926b802a-444c-432a-a74c-662b33dd82a8",
   "metadata": {},
   "outputs": [],
   "source": [
    "gme_data.to_csv(\"gme_stock_data.csv\", index=False)"
   ]
  },
  {
   "cell_type": "code",
   "execution_count": null,
   "id": "da5a04ff-0e97-45f0-85b9-3e2a8da831ed",
   "metadata": {},
   "outputs": [],
   "source": [
    "import yfinance as yf\n",
    "\n",
    "gme = yf.Ticker(\"GME\")\n",
    "gme_data = gme.history(period=\"1mo\")\n",
    "gme_data.reset_index(inplace=True)\n",
    "\n",
    "print(gme_data.head())\n",
    "\n",
    "gme_data.to_csv(\"gme_stock_data.csv\", index=False)\n"
   ]
  },
  {
   "cell_type": "code",
   "execution_count": null,
   "id": "258e0ab1-3002-4935-acf0-58461d94c5f6",
   "metadata": {},
   "outputs": [],
   "source": []
  }
 ],
 "metadata": {
  "kernelspec": {
   "display_name": "Python 3 (ipykernel)",
   "language": "python",
   "name": "python3"
  },
  "language_info": {
   "codemirror_mode": {
    "name": "ipython",
    "version": 3
   },
   "file_extension": ".py",
   "mimetype": "text/x-python",
   "name": "python",
   "nbconvert_exporter": "python",
   "pygments_lexer": "ipython3",
   "version": "3.12.8"
  }
 },
 "nbformat": 4,
 "nbformat_minor": 5
}
