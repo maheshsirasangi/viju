{
 "cells": [
  {
   "cell_type": "markdown",
   "id": "b9268166-3ecb-4071-a651-d854642c50f7",
   "metadata": {},
   "source": [
    "url = \"http://www.macrotrends.net/stocks/charts/TSLA/tesla/revenue\""
   ]
  },
  {
   "cell_type": "code",
   "execution_count": null,
   "id": "09c2d1ad-9a15-486b-89d5-c6628b1b5b13",
   "metadata": {},
   "outputs": [],
   "source": []
  },
  {
   "cell_type": "markdown",
   "id": "0dab0ac7-fd59-4bfb-a96b-38103eeb8db3",
   "metadata": {},
   "source": [
    "### html_data = requests.get(url).text\n",
    "### soup = BeautifulSoup(html_data, \"html.parser\")"
   ]
  },
  {
   "cell_type": "markdown",
   "id": "727389b7-a605-46f5-8547-8a077c92bf47",
   "metadata": {},
   "source": [
    "tables = soup.find_all(\"table\")\n",
    "for table in tables:\n",
    "    if \"Tesla Annual Revenue\" in str(table):\n",
    "        revenue_table = table\n",
    "        break\n"
   ]
  },
  {
   "cell_type": "markdown",
   "id": "862c9422-2b21-4890-ac96-dada1349cd82",
   "metadata": {},
   "source": [
    "tesla_revenue = pd.read_html(str(revenue_table))[0]\n"
   ]
  },
  {
   "cell_type": "markdown",
   "id": "4fb97bbe-5642-4a0b-b1d2-f6645034b641",
   "metadata": {},
   "source": [
    "### tesla_revenue.columns = [\"Date\", \"Revenue\"]\n",
    "### tesla_revenue[\"Revenue\"] = tesla_revenue[\"Revenue\"].replace({'\\$': '', ',': ''}, regex=True)\n",
    "### tesla_revenue = tesla_revenue[tesla_revenue[\"Revenue\"] != \"\"]  # Remove empty rows\n"
   ]
  },
  {
   "cell_type": "markdown",
   "id": "982a9349-513d-486f-ae66-75a90708bcbe",
   "metadata": {},
   "source": [
    "print(tesla_revenue.tail())"
   ]
  },
  {
   "cell_type": "code",
   "execution_count": null,
   "id": "1bae95f1-92af-4d9a-bca5-262fa96e363b",
   "metadata": {},
   "outputs": [],
   "source": [
    "import requests\n",
    "from bs4 import BeautifulSoup\n",
    "import pandas as pd\n",
    "\n",
    "url = \"https://www.macrotrends.net/stocks/charts/TSLA/tesla/revenue\"\n",
    "html_data = requests.get(url).text\n",
    "soup = BeautifulSoup(html_data, \"html.parser\")\n",
    "\n",
    "tables = soup.find_all(\"table\")\n",
    "for table in tables:\n",
    "    if \"Tesla Annual Revenue\" in str(table):\n",
    "        revenue_table = table\n",
    "        break\n",
    "\n",
    "tesla_revenue = pd.read_html(str(revenue_table))[0]\n",
    "tesla_revenue.columns = [\"Date\", \"Revenue\"]\n",
    "tesla_revenue[\"Revenue\"] = tesla_revenue[\"Revenue\"].replace({'\\$': '', ',': ''}, regex=True)\n",
    "tesla_revenue = tesla_revenue[tesla_revenue[\"Revenue\"] != \"\"]\n",
    "\n",
    "print(tesla_revenue.tail())\n"
   ]
  }
 ],
 "metadata": {
  "kernelspec": {
   "display_name": "Python 3 (ipykernel)",
   "language": "python",
   "name": "python3"
  },
  "language_info": {
   "codemirror_mode": {
    "name": "ipython",
    "version": 3
   },
   "file_extension": ".py",
   "mimetype": "text/x-python",
   "name": "python",
   "nbconvert_exporter": "python",
   "pygments_lexer": "ipython3",
   "version": "3.12.8"
  }
 },
 "nbformat": 4,
 "nbformat_minor": 5
}
