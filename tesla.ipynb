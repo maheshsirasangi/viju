{
 "cells": [
  {
   "cell_type": "markdown",
   "id": "53ab14b5-44a1-435f-8b36-293dc65e9a39",
   "metadata": {},
   "source": [
    "import yfinance as yf"
   ]
  },
  {
   "cell_type": "markdown",
   "id": "8e7ad87f-54e7-4f91-b6ae-b98c44574172",
   "metadata": {},
   "source": [
    "tesla=yf.Ticker(\"TSLA\")"
   ]
  },
  {
   "cell_type": "markdown",
   "id": "dc95fd32-2a09-4115-8b26-beda5ad6b72b",
   "metadata": {},
   "source": [
    "data = tesla.history(period=\"1mo\") #options:\"1d\", \"5d\", \"1mo\", \"3mo\", \"6mo\", \"1y\", etc.\n",
    "print(data)"
   ]
  },
  {
   "cell_type": "markdown",
   "id": "e950f584-598c-47d1-8e06-7f608b13898b",
   "metadata": {},
   "source": [
    "data = tesla.history(starts=\"2024-01-01\", end=\"2024-12-31\")"
   ]
  },
  {
   "cell_type": "markdown",
   "id": "30782c36-ce0f-4cd4-af79-5133f3a91934",
   "metadata": {},
   "source": [
    "### .open\n",
    "### .High\n",
    "### .Low\n",
    "### .Close\n",
    "### .Volume"
   ]
  },
  {
   "cell_type": "markdown",
   "id": "91d63df2-f775-4f62-93f2-a69d3e47736b",
   "metadata": {},
   "source": [
    "print(data.head())"
   ]
  },
  {
   "cell_type": "markdown",
   "id": "293621fe-6895-41ee-8a45-d158b25e4338",
   "metadata": {},
   "source": [
    "data.to_CSV(\"tesla_stock_data.CSV\")"
   ]
  },
  {
   "cell_type": "markdown",
   "id": "be77d0e2-3089-4e07-83b7-aad360e2d920",
   "metadata": {},
   "source": [
    " tesla= yfinance as yfinance\n",
    "\n",
    "tesla = yf.Ticker(\"TSLA\")\n",
    "data = tesla.history(periods=\"1mo\")\n",
    "print(data)\n",
    "data.to_CSV(\"tesla_stock_data.CSV\")"
   ]
  },
  {
   "cell_type": "code",
   "execution_count": null,
   "id": "f69836bc-8c6f-477a-acaf-87252a01c0f2",
   "metadata": {},
   "outputs": [],
   "source": [
    "url = \"http://www.macrotrends.net/stocks/charts/TSLA/tesla/revenue\""
   ]
  },
  {
   "cell_type": "code",
   "execution_count": null,
   "id": "5d9a1b7d-58af-4cc0-a0a0-6287c6955432",
   "metadata": {},
   "outputs": [],
   "source": []
  }
 ],
 "metadata": {
  "kernelspec": {
   "display_name": "Python 3 (ipykernel)",
   "language": "python",
   "name": "python3"
  },
  "language_info": {
   "codemirror_mode": {
    "name": "ipython",
    "version": 3
   },
   "file_extension": ".py",
   "mimetype": "text/x-python",
   "name": "python",
   "nbconvert_exporter": "python",
   "pygments_lexer": "ipython3",
   "version": "3.12.8"
  }
 },
 "nbformat": 4,
 "nbformat_minor": 5
}
