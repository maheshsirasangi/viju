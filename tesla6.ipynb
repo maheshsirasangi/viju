{
 "cells": [
  {
   "cell_type": "code",
   "execution_count": null,
   "id": "da0962d8-05eb-4cd9-b43f-777c04a80ffa",
   "metadata": {},
   "outputs": [],
   "source": [
    "import yfinance as yf\n",
    "import matplotlib.pyplot as plt"
   ]
  },
  {
   "cell_type": "code",
   "execution_count": null,
   "id": "7205499c-f895-4bab-976f-def322315b97",
   "metadata": {},
   "outputs": [],
   "source": [
    "def make_graph(ticker_symbol, start_date, end_date):\n",
    "    data = yf.download(ticker_symbol, start=start_date, end=end_date)\n",
    "    plt.figure(figsize=(12, 6))\n",
    "    plt.plot(data['Close'], label=f'{ticker_symbol} Closing Price', color='purple')\n",
    "    plt.title(f\"{ticker_symbol} Stock Price Over Time\")\n",
    "    plt.xlabel(\"Date\")\n",
    "    plt.ylabel(\"Closing Price (USD)\")\n",
    "    plt.legend()\n",
    "    plt.grid(True)\n",
    "    plt.show()"
   ]
  },
  {
   "cell_type": "code",
   "execution_count": null,
   "id": "e47aae2b-86b3-447c-b172-b2faa3e54c0e",
   "metadata": {},
   "outputs": [],
   "source": [
    "make_graph('GME', '2024-01-01', '2025-01-01')"
   ]
  }
 ],
 "metadata": {
  "kernelspec": {
   "display_name": "Python 3 (ipykernel)",
   "language": "python",
   "name": "python3"
  },
  "language_info": {
   "codemirror_mode": {
    "name": "ipython",
    "version": 3
   },
   "file_extension": ".py",
   "mimetype": "text/x-python",
   "name": "python",
   "nbconvert_exporter": "python",
   "pygments_lexer": "ipython3",
   "version": "3.12.8"
  }
 },
 "nbformat": 4,
 "nbformat_minor": 5
}
