{
 "cells": [
  {
   "cell_type": "code",
   "execution_count": null,
   "id": "c77e6414-a734-4ae8-9db2-b829cc31dc67",
   "metadata": {},
   "outputs": [],
   "source": [
    "import requests\n",
    "from bs4 import BeautifulSoup\n",
    "import pandas as pd"
   ]
  },
  {
   "cell_type": "code",
   "execution_count": null,
   "id": "75eb8d45-c2f8-4c77-a1b9-b67bc2d92097",
   "metadata": {},
   "outputs": [],
   "source": [
    "url = \"https://www.macrotrends.net/stocks/charts/GME/gamestop/revenue\""
   ]
  },
  {
   "cell_type": "code",
   "execution_count": null,
   "id": "ed8ee4c7-94aa-486c-b442-9f2627b188d7",
   "metadata": {},
   "outputs": [],
   "source": [
    "html_data = requests.get(url).text\n",
    "soup = BeautifulSoup(html_data, \"html.parser\")"
   ]
  },
  {
   "cell_type": "code",
   "execution_count": null,
   "id": "48c0496a-d1b5-47c9-8bf5-f7fd2aefde01",
   "metadata": {},
   "outputs": [],
   "source": [
    "tables = soup.find_all(\"table\")\n",
    "for table in tables:\n",
    "    if \"GameStop Annual Revenue\" in str(table):\n",
    "        revenue_table = table\n",
    "        break\n",
    "\n",
    "gme_revenue = pd.read_html(str(revenue_table))[0]"
   ]
  },
  {
   "cell_type": "code",
   "execution_count": null,
   "id": "67508814-8c35-42af-a9c1-ab1fa8d7d4ef",
   "metadata": {},
   "outputs": [],
   "source": [
    "gme_revenue.columns = [\"Date\", \"Revenue\"]\n",
    "gme_revenue[\"Revenue\"] = gme_revenue[\"Revenue\"].replace({'\\$': '', ',': ''}, regex=True)\n",
    "gme_revenue = gme_revenue[gme_revenue[\"Revenue\"] != \"\"]"
   ]
  },
  {
   "cell_type": "code",
   "execution_count": null,
   "id": "e212f945-fd9a-4ea3-8549-6ac130b4c85f",
   "metadata": {},
   "outputs": [],
   "source": [
    "print(gme_revenue.tail())"
   ]
  },
  {
   "cell_type": "code",
   "execution_count": null,
   "id": "fddebed9-03b6-47d4-a50c-117fda1c54d4",
   "metadata": {},
   "outputs": [],
   "source": [
    "import requests\n",
    "from bs4 import BeautifulSoup\n",
    "import pandas as pd\n",
    "\n",
    "url = \"https://www.macrotrends.net/stocks/charts/GME/gamestop/revenue\"\n",
    "html_data = requests.get(url).text\n",
    "soup = BeautifulSoup(html_data, \"html.parser\")\n",
    "\n",
    "tables = soup.find_all(\"table\")\n",
    "for table in tables:\n",
    "    if \"GameStop Annual Revenue\" in str(table):\n",
    "        revenue_table = table\n",
    "        break\n",
    "\n",
    "gme_revenue = pd.read_html(str(revenue_table))[0]\n",
    "gme_revenue.columns = [\"Date\", \"Revenue\"]\n",
    "gme_revenue[\"Revenue\"] = gme_revenue[\"Revenue\"].replace({'\\$': '', ',': ''}, regex=True)\n",
    "gme_revenue = gme_revenue[gme_revenue[\"Revenue\"] != \"\"]\n",
    "\n",
    "print(gme_revenue.tail())\n"
   ]
  }
 ],
 "metadata": {
  "kernelspec": {
   "display_name": "Python 3 (ipykernel)",
   "language": "python",
   "name": "python3"
  },
  "language_info": {
   "codemirror_mode": {
    "name": "ipython",
    "version": 3
   },
   "file_extension": ".py",
   "mimetype": "text/x-python",
   "name": "python",
   "nbconvert_exporter": "python",
   "pygments_lexer": "ipython3",
   "version": "3.12.8"
  }
 },
 "nbformat": 4,
 "nbformat_minor": 5
}
